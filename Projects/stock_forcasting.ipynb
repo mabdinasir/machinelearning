{
 "cells": [
  {
   "cell_type": "code",
   "execution_count": 1,
   "metadata": {},
   "outputs": [],
   "source": [
    "import pandas as pd\n",
    "import numpy as np\n",
    "import matplotlib.pyplot as plt\n",
    "\n",
    "import torch\n",
    "import torch.nn as nn\n"
   ]
  },
  {
   "cell_type": "code",
   "execution_count": 2,
   "metadata": {},
   "outputs": [],
   "source": [
    "# Load the data # https://drive.google.com/file/d/1MqY9yaql1XQbodFSngsHxGbyLdWRhVXj/view\n",
    "data = pd.read_csv('../data/amazon.csv')"
   ]
  },
  {
   "cell_type": "code",
   "execution_count": 3,
   "metadata": {},
   "outputs": [
    {
     "data": {
      "text/html": [
       "<div>\n",
       "<style scoped>\n",
       "    .dataframe tbody tr th:only-of-type {\n",
       "        vertical-align: middle;\n",
       "    }\n",
       "\n",
       "    .dataframe tbody tr th {\n",
       "        vertical-align: top;\n",
       "    }\n",
       "\n",
       "    .dataframe thead th {\n",
       "        text-align: right;\n",
       "    }\n",
       "</style>\n",
       "<table border=\"1\" class=\"dataframe\">\n",
       "  <thead>\n",
       "    <tr style=\"text-align: right;\">\n",
       "      <th></th>\n",
       "      <th>Date</th>\n",
       "      <th>Open</th>\n",
       "      <th>High</th>\n",
       "      <th>Low</th>\n",
       "      <th>Close</th>\n",
       "      <th>Adj Close</th>\n",
       "      <th>Volume</th>\n",
       "    </tr>\n",
       "  </thead>\n",
       "  <tbody>\n",
       "    <tr>\n",
       "      <th>6511</th>\n",
       "      <td>2023-03-30</td>\n",
       "      <td>101.550003</td>\n",
       "      <td>103.040001</td>\n",
       "      <td>101.010002</td>\n",
       "      <td>102.000000</td>\n",
       "      <td>102.000000</td>\n",
       "      <td>53633400</td>\n",
       "    </tr>\n",
       "    <tr>\n",
       "      <th>6512</th>\n",
       "      <td>2023-03-31</td>\n",
       "      <td>102.160004</td>\n",
       "      <td>103.489998</td>\n",
       "      <td>101.949997</td>\n",
       "      <td>103.290001</td>\n",
       "      <td>103.290001</td>\n",
       "      <td>56704300</td>\n",
       "    </tr>\n",
       "    <tr>\n",
       "      <th>6513</th>\n",
       "      <td>2023-04-03</td>\n",
       "      <td>102.300003</td>\n",
       "      <td>103.290001</td>\n",
       "      <td>101.430000</td>\n",
       "      <td>102.410004</td>\n",
       "      <td>102.410004</td>\n",
       "      <td>41135700</td>\n",
       "    </tr>\n",
       "    <tr>\n",
       "      <th>6514</th>\n",
       "      <td>2023-04-04</td>\n",
       "      <td>102.750000</td>\n",
       "      <td>104.199997</td>\n",
       "      <td>102.110001</td>\n",
       "      <td>103.949997</td>\n",
       "      <td>103.949997</td>\n",
       "      <td>48662500</td>\n",
       "    </tr>\n",
       "    <tr>\n",
       "      <th>6515</th>\n",
       "      <td>2023-04-05</td>\n",
       "      <td>103.910004</td>\n",
       "      <td>103.910004</td>\n",
       "      <td>100.750000</td>\n",
       "      <td>101.099998</td>\n",
       "      <td>101.099998</td>\n",
       "      <td>45103000</td>\n",
       "    </tr>\n",
       "  </tbody>\n",
       "</table>\n",
       "</div>"
      ],
      "text/plain": [
       "            Date        Open        High         Low       Close   Adj Close  \\\n",
       "6511  2023-03-30  101.550003  103.040001  101.010002  102.000000  102.000000   \n",
       "6512  2023-03-31  102.160004  103.489998  101.949997  103.290001  103.290001   \n",
       "6513  2023-04-03  102.300003  103.290001  101.430000  102.410004  102.410004   \n",
       "6514  2023-04-04  102.750000  104.199997  102.110001  103.949997  103.949997   \n",
       "6515  2023-04-05  103.910004  103.910004  100.750000  101.099998  101.099998   \n",
       "\n",
       "        Volume  \n",
       "6511  53633400  \n",
       "6512  56704300  \n",
       "6513  41135700  \n",
       "6514  48662500  \n",
       "6515  45103000  "
      ]
     },
     "execution_count": 3,
     "metadata": {},
     "output_type": "execute_result"
    }
   ],
   "source": [
    "data.tail(5)"
   ]
  },
  {
   "cell_type": "code",
   "execution_count": 4,
   "metadata": {},
   "outputs": [
    {
     "data": {
      "text/plain": [
       "device(type='cpu')"
      ]
     },
     "execution_count": 4,
     "metadata": {},
     "output_type": "execute_result"
    }
   ],
   "source": [
    "device = torch.device('cuda' if torch.cuda.is_available() else 'cpu')\n",
    "device"
   ]
  },
  {
   "cell_type": "code",
   "execution_count": 5,
   "metadata": {},
   "outputs": [
    {
     "data": {
      "text/plain": [
       "[<matplotlib.lines.Line2D at 0x15128a930>]"
      ]
     },
     "execution_count": 5,
     "metadata": {},
     "output_type": "execute_result"
    },
    {
     "data": {
      "image/png": "[encoded data removed]",
      "text/plain": [
       "<Figure size 640x480 with 1 Axes>"
      ]
     },
     "metadata": {},
     "output_type": "display_data"
    }
   ],
   "source": [
    "# make the date column a pandas datetime object\n",
    "data['Date'] = pd.to_datetime(data['Date'])\n",
    "plt.plot(data['Date'], data['Close'])"
   ]
  },
  {
   "cell_type": "code",
   "execution_count": 6,
   "metadata": {},
   "outputs": [
    {
     "data": {
      "text/html": [
       "<div>\n",
       "<style scoped>\n",
       "    .dataframe tbody tr th:only-of-type {\n",
       "        vertical-align: middle;\n",
       "    }\n",
       "\n",
       "    .dataframe tbody tr th {\n",
       "        vertical-align: top;\n",
       "    }\n",
       "\n",
       "    .dataframe thead th {\n",
       "        text-align: right;\n",
       "    }\n",
       "</style>\n",
       "<table border=\"1\" class=\"dataframe\">\n",
       "  <thead>\n",
       "    <tr style=\"text-align: right;\">\n",
       "      <th></th>\n",
       "      <th>Date</th>\n",
       "      <th>Close</th>\n",
       "    </tr>\n",
       "  </thead>\n",
       "  <tbody>\n",
       "    <tr>\n",
       "      <th>0</th>\n",
       "      <td>1997-05-15</td>\n",
       "      <td>0.097917</td>\n",
       "    </tr>\n",
       "    <tr>\n",
       "      <th>1</th>\n",
       "      <td>1997-05-16</td>\n",
       "      <td>0.086458</td>\n",
       "    </tr>\n",
       "    <tr>\n",
       "      <th>2</th>\n",
       "      <td>1997-05-19</td>\n",
       "      <td>0.085417</td>\n",
       "    </tr>\n",
       "    <tr>\n",
       "      <th>3</th>\n",
       "      <td>1997-05-20</td>\n",
       "      <td>0.081771</td>\n",
       "    </tr>\n",
       "    <tr>\n",
       "      <th>4</th>\n",
       "      <td>1997-05-21</td>\n",
       "      <td>0.071354</td>\n",
       "    </tr>\n",
       "    <tr>\n",
       "      <th>...</th>\n",
       "      <td>...</td>\n",
       "      <td>...</td>\n",
       "    </tr>\n",
       "    <tr>\n",
       "      <th>6511</th>\n",
       "      <td>2023-03-30</td>\n",
       "      <td>102.000000</td>\n",
       "    </tr>\n",
       "    <tr>\n",
       "      <th>6512</th>\n",
       "      <td>2023-03-31</td>\n",
       "      <td>103.290001</td>\n",
       "    </tr>\n",
       "    <tr>\n",
       "      <th>6513</th>\n",
       "      <td>2023-04-03</td>\n",
       "      <td>102.410004</td>\n",
       "    </tr>\n",
       "    <tr>\n",
       "      <th>6514</th>\n",
       "      <td>2023-04-04</td>\n",
       "      <td>103.949997</td>\n",
       "    </tr>\n",
       "    <tr>\n",
       "      <th>6515</th>\n",
       "      <td>2023-04-05</td>\n",
       "      <td>101.099998</td>\n",
       "    </tr>\n",
       "  </tbody>\n",
       "</table>\n",
       "<p>6516 rows × 2 columns</p>\n",
       "</div>"
      ],
      "text/plain": [
       "           Date       Close\n",
       "0    1997-05-15    0.097917\n",
       "1    1997-05-16    0.086458\n",
       "2    1997-05-19    0.085417\n",
       "3    1997-05-20    0.081771\n",
       "4    1997-05-21    0.071354\n",
       "...         ...         ...\n",
       "6511 2023-03-30  102.000000\n",
       "6512 2023-03-31  103.290001\n",
       "6513 2023-04-03  102.410004\n",
       "6514 2023-04-04  103.949997\n",
       "6515 2023-04-05  101.099998\n",
       "\n",
       "[6516 rows x 2 columns]"
      ]
     },
     "execution_count": 6,
     "metadata": {},
     "output_type": "execute_result"
    }
   ],
   "source": [
    "data = data[['Date', 'Close']]\n",
    "data"
   ]
  },
  {
   "cell_type": "code",
   "execution_count": 7,
   "metadata": {},
   "outputs": [
    {
     "data": {
      "text/html": [
       "<div>\n",
       "<style scoped>\n",
       "    .dataframe tbody tr th:only-of-type {\n",
       "        vertical-align: middle;\n",
       "    }\n",
       "\n",
       "    .dataframe tbody tr th {\n",
       "        vertical-align: top;\n",
       "    }\n",
       "\n",
       "    .dataframe thead th {\n",
       "        text-align: right;\n",
       "    }\n",
       "</style>\n",
       "<table border=\"1\" class=\"dataframe\">\n",
       "  <thead>\n",
       "    <tr style=\"text-align: right;\">\n",
       "      <th></th>\n",
       "      <th>Close</th>\n",
       "      <th>Close(t-1)</th>\n",
       "      <th>Close(t-2)</th>\n",
       "      <th>Close(t-3)</th>\n",
       "      <th>Close(t-4)</th>\n",
       "      <th>Close(t-5)</th>\n",
       "      <th>Close(t-6)</th>\n",
       "      <th>Close(t-7)</th>\n",
       "    </tr>\n",
       "    <tr>\n",
       "      <th>Date</th>\n",
       "      <th></th>\n",
       "      <th></th>\n",
       "      <th></th>\n",
       "      <th></th>\n",
       "      <th></th>\n",
       "      <th></th>\n",
       "      <th></th>\n",
       "      <th></th>\n",
       "    </tr>\n",
       "  </thead>\n",
       "  <tbody>\n",
       "    <tr>\n",
       "      <th>1997-05-27</th>\n",
       "      <td>0.079167</td>\n",
       "      <td>0.075000</td>\n",
       "      <td>0.069792</td>\n",
       "      <td>0.071354</td>\n",
       "      <td>0.081771</td>\n",
       "      <td>0.085417</td>\n",
       "      <td>0.086458</td>\n",
       "      <td>0.097917</td>\n",
       "    </tr>\n",
       "    <tr>\n",
       "      <th>1997-05-28</th>\n",
       "      <td>0.076563</td>\n",
       "      <td>0.079167</td>\n",
       "      <td>0.075000</td>\n",
       "      <td>0.069792</td>\n",
       "      <td>0.071354</td>\n",
       "      <td>0.081771</td>\n",
       "      <td>0.085417</td>\n",
       "      <td>0.086458</td>\n",
       "    </tr>\n",
       "    <tr>\n",
       "      <th>1997-05-29</th>\n",
       "      <td>0.075260</td>\n",
       "      <td>0.076563</td>\n",
       "      <td>0.079167</td>\n",
       "      <td>0.075000</td>\n",
       "      <td>0.069792</td>\n",
       "      <td>0.071354</td>\n",
       "      <td>0.081771</td>\n",
       "      <td>0.085417</td>\n",
       "    </tr>\n",
       "    <tr>\n",
       "      <th>1997-05-30</th>\n",
       "      <td>0.075000</td>\n",
       "      <td>0.075260</td>\n",
       "      <td>0.076563</td>\n",
       "      <td>0.079167</td>\n",
       "      <td>0.075000</td>\n",
       "      <td>0.069792</td>\n",
       "      <td>0.071354</td>\n",
       "      <td>0.081771</td>\n",
       "    </tr>\n",
       "    <tr>\n",
       "      <th>1997-06-02</th>\n",
       "      <td>0.075521</td>\n",
       "      <td>0.075000</td>\n",
       "      <td>0.075260</td>\n",
       "      <td>0.076563</td>\n",
       "      <td>0.079167</td>\n",
       "      <td>0.075000</td>\n",
       "      <td>0.069792</td>\n",
       "      <td>0.071354</td>\n",
       "    </tr>\n",
       "    <tr>\n",
       "      <th>...</th>\n",
       "      <td>...</td>\n",
       "      <td>...</td>\n",
       "      <td>...</td>\n",
       "      <td>...</td>\n",
       "      <td>...</td>\n",
       "      <td>...</td>\n",
       "      <td>...</td>\n",
       "      <td>...</td>\n",
       "    </tr>\n",
       "    <tr>\n",
       "      <th>2023-03-30</th>\n",
       "      <td>102.000000</td>\n",
       "      <td>100.250000</td>\n",
       "      <td>97.239998</td>\n",
       "      <td>98.040001</td>\n",
       "      <td>98.129997</td>\n",
       "      <td>98.709999</td>\n",
       "      <td>98.699997</td>\n",
       "      <td>100.610001</td>\n",
       "    </tr>\n",
       "    <tr>\n",
       "      <th>2023-03-31</th>\n",
       "      <td>103.290001</td>\n",
       "      <td>102.000000</td>\n",
       "      <td>100.250000</td>\n",
       "      <td>97.239998</td>\n",
       "      <td>98.040001</td>\n",
       "      <td>98.129997</td>\n",
       "      <td>98.709999</td>\n",
       "      <td>98.699997</td>\n",
       "    </tr>\n",
       "    <tr>\n",
       "      <th>2023-04-03</th>\n",
       "      <td>102.410004</td>\n",
       "      <td>103.290001</td>\n",
       "      <td>102.000000</td>\n",
       "      <td>100.250000</td>\n",
       "      <td>97.239998</td>\n",
       "      <td>98.040001</td>\n",
       "      <td>98.129997</td>\n",
       "      <td>98.709999</td>\n",
       "    </tr>\n",
       "    <tr>\n",
       "      <th>2023-04-04</th>\n",
       "      <td>103.949997</td>\n",
       "      <td>102.410004</td>\n",
       "      <td>103.290001</td>\n",
       "      <td>102.000000</td>\n",
       "      <td>100.250000</td>\n",
       "      <td>97.239998</td>\n",
       "      <td>98.040001</td>\n",
       "      <td>98.129997</td>\n",
       "    </tr>\n",
       "    <tr>\n",
       "      <th>2023-04-05</th>\n",
       "      <td>101.099998</td>\n",
       "      <td>103.949997</td>\n",
       "      <td>102.410004</td>\n",
       "      <td>103.290001</td>\n",
       "      <td>102.000000</td>\n",
       "      <td>100.250000</td>\n",
       "      <td>97.239998</td>\n",
       "      <td>98.040001</td>\n",
       "    </tr>\n",
       "  </tbody>\n",
       "</table>\n",
       "<p>6509 rows × 8 columns</p>\n",
       "</div>"
      ],
      "text/plain": [
       "                 Close  Close(t-1)  Close(t-2)  Close(t-3)  Close(t-4)  \\\n",
       "Date                                                                     \n",
       "1997-05-27    0.079167    0.075000    0.069792    0.071354    0.081771   \n",
       "1997-05-28    0.076563    0.079167    0.075000    0.069792    0.071354   \n",
       "1997-05-29    0.075260    0.076563    0.079167    0.075000    0.069792   \n",
       "1997-05-30    0.075000    0.075260    0.076563    0.079167    0.075000   \n",
       "1997-06-02    0.075521    0.075000    0.075260    0.076563    0.079167   \n",
       "...                ...         ...         ...         ...         ...   \n",
       "2023-03-30  102.000000  100.250000   97.239998   98.040001   98.129997   \n",
       "2023-03-31  103.290001  102.000000  100.250000   97.239998   98.040001   \n",
       "2023-04-03  102.410004  103.290001  102.000000  100.250000   97.239998   \n",
       "2023-04-04  103.949997  102.410004  103.290001  102.000000  100.250000   \n",
       "2023-04-05  101.099998  103.949997  102.410004  103.290001  102.000000   \n",
       "\n",
       "            Close(t-5)  Close(t-6)  Close(t-7)  \n",
       "Date                                            \n",
       "1997-05-27    0.085417    0.086458    0.097917  \n",
       "1997-05-28    0.081771    0.085417    0.086458  \n",
       "1997-05-29    0.071354    0.081771    0.085417  \n",
       "1997-05-30    0.069792    0.071354    0.081771  \n",
       "1997-06-02    0.075000    0.069792    0.071354  \n",
       "...                ...         ...         ...  \n",
       "2023-03-30   98.709999   98.699997  100.610001  \n",
       "2023-03-31   98.129997   98.709999   98.699997  \n",
       "2023-04-03   98.040001   98.129997   98.709999  \n",
       "2023-04-04   97.239998   98.040001   98.129997  \n",
       "2023-04-05  100.250000   97.239998   98.040001  \n",
       "\n",
       "[6509 rows x 8 columns]"
      ]
     },
     "execution_count": 7,
     "metadata": {},
     "output_type": "execute_result"
    }
   ],
   "source": [
    "from copy import deepcopy as dc\n",
    "\n",
    "def prepare_dataframe_for_lstm(df, n_steps):\n",
    "    df = dc(df)\n",
    "    \n",
    "    df.set_index('Date', inplace=True)\n",
    "    \n",
    "    for i in range(1, n_steps+1):\n",
    "        df[f'Close(t-{i})'] = df['Close'].shift(i)\n",
    "        \n",
    "    df.dropna(inplace=True)\n",
    "    \n",
    "    return df\n",
    "\n",
    "lookback = 7\n",
    "shifted_df = prepare_dataframe_for_lstm(data, lookback)\n",
    "shifted_df"
   ]
  },
  {
   "cell_type": "code",
   "execution_count": 8,
   "metadata": {},
   "outputs": [
    {
     "data": {
      "text/plain": [
       "array([[7.91670000e-02, 7.50000000e-02, 6.97920000e-02, ...,\n",
       "        8.54170000e-02, 8.64580000e-02, 9.79170000e-02],\n",
       "       [7.65630000e-02, 7.91670000e-02, 7.50000000e-02, ...,\n",
       "        8.17710000e-02, 8.54170000e-02, 8.64580000e-02],\n",
       "       [7.52600000e-02, 7.65630000e-02, 7.91670000e-02, ...,\n",
       "        7.13540000e-02, 8.17710000e-02, 8.54170000e-02],\n",
       "       ...,\n",
       "       [1.02410004e+02, 1.03290001e+02, 1.02000000e+02, ...,\n",
       "        9.80400010e+01, 9.81299970e+01, 9.87099990e+01],\n",
       "       [1.03949997e+02, 1.02410004e+02, 1.03290001e+02, ...,\n",
       "        9.72399980e+01, 9.80400010e+01, 9.81299970e+01],\n",
       "       [1.01099998e+02, 1.03949997e+02, 1.02410004e+02, ...,\n",
       "        1.00250000e+02, 9.72399980e+01, 9.80400010e+01]])"
      ]
     },
     "execution_count": 8,
     "metadata": {},
     "output_type": "execute_result"
    }
   ],
   "source": [
    "shifted_df_as_np = shifted_df.to_numpy()\n",
    "\n",
    "shifted_df_as_np"
   ]
  },
  {
   "cell_type": "code",
   "execution_count": 9,
   "metadata": {},
   "outputs": [
    {
     "data": {
      "text/plain": [
       "(6509, 8)"
      ]
     },
     "execution_count": 9,
     "metadata": {},
     "output_type": "execute_result"
    }
   ],
   "source": [
    "shifted_df_as_np.shape"
   ]
  },
  {
   "cell_type": "code",
   "execution_count": 10,
   "metadata": {},
   "outputs": [
    {
     "data": {
      "text/plain": [
       "array([[-0.99991063, -0.99995531, -1.        , ..., -0.99983244,\n",
       "        -0.99982128, -0.99969839],\n",
       "       [-0.99993855, -0.99991063, -0.99994415, ..., -0.99987154,\n",
       "        -0.99983244, -0.99982128],\n",
       "       [-0.99995253, -0.99993855, -0.99989946, ..., -0.99998325,\n",
       "        -0.99987154, -0.99983244],\n",
       "       ...,\n",
       "       [ 0.09747299,  0.10690997,  0.09308121, ...,  0.0506149 ,\n",
       "         0.05158   ,  0.05779984],\n",
       "       [ 0.11398769,  0.09747299,  0.10691495, ...,  0.04203581,\n",
       "         0.0506149 ,  0.05158   ],\n",
       "       [ 0.08342464,  0.11398769,  0.09747802, ...,  0.07431453,\n",
       "         0.04203581,  0.0506149 ]])"
      ]
     },
     "execution_count": 10,
     "metadata": {},
     "output_type": "execute_result"
    }
   ],
   "source": [
    "from sklearn.preprocessing import MinMaxScaler\n",
    "\n",
    "scaler = MinMaxScaler(feature_range=(-1, 1))\n",
    "shifted_df_as_np = scaler.fit_transform(shifted_df_as_np)\n",
    "\n",
    "shifted_df_as_np"
   ]
  },
  {
   "cell_type": "code",
   "execution_count": 11,
   "metadata": {},
   "outputs": [
    {
     "data": {
      "text/plain": [
       "((6509, 7), (6509,))"
      ]
     },
     "execution_count": 11,
     "metadata": {},
     "output_type": "execute_result"
    }
   ],
   "source": [
    "X = shifted_df_as_np[:, 1:] # all columns except the first one\n",
    "y = shifted_df_as_np[:, 0] # the first column, which is the target column\n",
    "\n",
    "X.shape, y.shape"
   ]
  },
  {
   "cell_type": "code",
   "execution_count": 12,
   "metadata": {},
   "outputs": [
    {
     "data": {
      "text/plain": [
       "array([[-0.99969839, -0.99982128, -0.99983244, ..., -0.99998325,\n",
       "        -1.        , -0.99995531],\n",
       "       [-0.99982128, -0.99983244, -0.99987154, ..., -1.        ,\n",
       "        -0.99994415, -0.99991063],\n",
       "       [-0.99983244, -0.99987154, -0.99998325, ..., -0.99994415,\n",
       "        -0.99989946, -0.99993855],\n",
       "       ...,\n",
       "       [ 0.05779984,  0.05158   ,  0.0506149 , ...,  0.07431453,\n",
       "         0.09308121,  0.10690997],\n",
       "       [ 0.05158   ,  0.0506149 ,  0.04203581, ...,  0.09308121,\n",
       "         0.10691495,  0.09747299],\n",
       "       [ 0.0506149 ,  0.04203581,  0.07431453, ...,  0.10691495,\n",
       "         0.09747802,  0.11398769]])"
      ]
     },
     "execution_count": 12,
     "metadata": {},
     "output_type": "execute_result"
    }
   ],
   "source": [
    "# flip the X array so that the first row is the oldest data\n",
    "x = dc(np.flip(X, axis=1))\n",
    "x"
   ]
  },
  {
   "cell_type": "code",
   "execution_count": 13,
   "metadata": {},
   "outputs": [
    {
     "data": {
      "text/plain": [
       "6183"
      ]
     },
     "execution_count": 13,
     "metadata": {},
     "output_type": "execute_result"
    }
   ],
   "source": [
    "split_index = int(len(X) * 0.95) # 95% of the data is used for training\n",
    "\n",
    "split_index"
   ]
  },
  {
   "cell_type": "code",
   "execution_count": 14,
   "metadata": {},
   "outputs": [
    {
     "data": {
      "text/plain": [
       "((6183, 7), (326, 7), (6183,), (326,))"
      ]
     },
     "execution_count": 14,
     "metadata": {},
     "output_type": "execute_result"
    }
   ],
   "source": [
    "X_train = X[:split_index] # 95% of the data is used for training\n",
    "X_test = X[split_index:] # 5% of the data is used for testing\n",
    "\n",
    "y_train = y[:split_index]\n",
    "y_test = y[split_index:]\n",
    "\n",
    "X_train.shape, X_test.shape, y_train.shape, y_test.shape"
   ]
  },
  {
   "cell_type": "code",
   "execution_count": 15,
   "metadata": {},
   "outputs": [
    {
     "data": {
      "text/plain": [
       "((6183, 7, 1), (326, 7, 1), (6183, 1), (326, 1))"
      ]
     },
     "execution_count": 15,
     "metadata": {},
     "output_type": "execute_result"
    }
   ],
   "source": [
    "X_train = X_train.reshape((-1, lookback, 1))\n",
    "X_test = X_test.reshape((-1, lookback, 1))\n",
    "\n",
    "y_train = y_train.reshape((-1, 1))\n",
    "y_test = y_test.reshape((-1, 1))\n",
    "\n",
    "X_train.shape, X_test.shape, y_train.shape, y_test.shape"
   ]
  },
  {
   "cell_type": "code",
   "execution_count": 16,
   "metadata": {},
   "outputs": [
    {
     "data": {
      "text/plain": [
       "(torch.Size([6183, 7, 1]),\n",
       " torch.Size([326, 7, 1]),\n",
       " torch.Size([6183, 1]),\n",
       " torch.Size([326, 1]))"
      ]
     },
     "execution_count": 16,
     "metadata": {},
     "output_type": "execute_result"
    }
   ],
   "source": [
    "# convert the numpy arrays to PyTorch tensors\n",
    "X_train = torch.tensor(X_train).float()\n",
    "y_train = torch.tensor(y_train).float()\n",
    "X_test = torch.tensor(X_test).float()\n",
    "y_test = torch.tensor(y_test).float()\n",
    "\n",
    "X_train.shape, X_test.shape, y_train.shape, y_test.shape"
   ]
  },
  {
   "cell_type": "code",
   "execution_count": 17,
   "metadata": {},
   "outputs": [],
   "source": [
    "from torch.utils.data import Dataset\n",
    "# Constructing a custom dataset class for the time series data\n",
    "# This is necessary because PyTorch's DataLoader requires a Dataset class to be passed to it. \n",
    "\n",
    "class TimeSeriesDataset(Dataset):\n",
    "    def __init__(self, X, y):\n",
    "        self.X = X\n",
    "        self.y = y\n",
    "\n",
    "    def __len__(self):\n",
    "        return len(self.X)\n",
    "\n",
    "    def __getitem__(self, i):\n",
    "        return self.X[i], self.y[i]\n",
    "    \n",
    "train_dataset = TimeSeriesDataset(X_train, y_train)\n",
    "test_dataset = TimeSeriesDataset(X_test, y_test)"
   ]
  },
  {
   "cell_type": "code",
   "execution_count": 18,
   "metadata": {},
   "outputs": [],
   "source": [
    "from torch.utils.data import DataLoader\n",
    "\n",
    "# batch size is 16\n",
    "batch_size = 16\n",
    "\n",
    "# Data loaders \n",
    "train_loader = DataLoader(train_dataset, batch_size=batch_size, shuffle=True)\n",
    "test_loader = DataLoader(test_dataset, batch_size=batch_size, shuffle=False)"
   ]
  },
  {
   "cell_type": "code",
   "execution_count": 19,
   "metadata": {},
   "outputs": [
    {
     "name": "stdout",
     "output_type": "stream",
     "text": [
      "torch.Size([16, 7, 1]) torch.Size([16, 1])\n"
     ]
    }
   ],
   "source": [
    "for _, batch in enumerate(train_loader):\n",
    "    x_batch, y_batch = batch[0].to(device), batch[1].to(device)\n",
    "    print(x_batch.shape, y_batch.shape)\n",
    "    break"
   ]
  },
  {
   "cell_type": "code",
   "execution_count": 20,
   "metadata": {},
   "outputs": [
    {
     "data": {
      "text/plain": [
       "LSTM(\n",
       "  (lstm): LSTM(1, 4, batch_first=True)\n",
       "  (fc): Linear(in_features=4, out_features=1, bias=True)\n",
       ")"
      ]
     },
     "execution_count": 20,
     "metadata": {},
     "output_type": "execute_result"
    }
   ],
   "source": [
    "class LSTM(nn.Module):\n",
    "    def __init__(self, input_size, hidden_size, num_stacked_layers):\n",
    "        super().__init__()\n",
    "        self.hidden_size = hidden_size\n",
    "        self.num_stacked_layers = num_stacked_layers\n",
    "\n",
    "        self.lstm = nn.LSTM(input_size, hidden_size, num_stacked_layers, \n",
    "                            batch_first=True)\n",
    "        \n",
    "        self.fc = nn.Linear(hidden_size, 1)\n",
    "\n",
    "    def forward(self, x):\n",
    "        batch_size = x.size(0)\n",
    "        h0 = torch.zeros(self.num_stacked_layers, batch_size, self.hidden_size).to(device)\n",
    "        c0 = torch.zeros(self.num_stacked_layers, batch_size, self.hidden_size).to(device)\n",
    "        \n",
    "        out, _ = self.lstm(x, (h0, c0))\n",
    "        out = self.fc(out[:, -1, :])\n",
    "        return out\n",
    "\n",
    "model = LSTM(1, 4, 1)\n",
    "model.to(device)\n",
    "model"
   ]
  },
  {
   "cell_type": "code",
   "execution_count": 21,
   "metadata": {},
   "outputs": [],
   "source": [
    "learning_rate = 0.01\n",
    "num_epochs = 10\n",
    "loss_function = nn.MSELoss()\n",
    "optimizer = torch.optim.Adam(model.parameters(), lr=learning_rate)"
   ]
  },
  {
   "cell_type": "code",
   "execution_count": 22,
   "metadata": {},
   "outputs": [],
   "source": [
    "def train_one_epoch(epoch):\n",
    "    model.train(True)\n",
    "    print(f'Epoch: {epoch}')\n",
    "    running_loss = 0.0\n",
    "    \n",
    "    for batch_index, batch in enumerate(train_loader):\n",
    "        x_batch, y_batch = batch[0].to(device), batch[1].to(device)\n",
    "        \n",
    "        output = model(x_batch)\n",
    "        loss = loss_function(output, y_batch)\n",
    "        running_loss += loss.item()\n",
    "        \n",
    "        optimizer.zero_grad()\n",
    "        loss.backward()\n",
    "        optimizer.step()\n",
    "\n",
    "        if batch_index % 100 == 99:  # print every 100 batches\n",
    "            avg_loss_across_batches = running_loss / 100\n",
    "            print('Batch {0}, Loss: {1:.3f}'.format(batch_index+1,\n",
    "                                                    avg_loss_across_batches))\n",
    "            running_loss = 0.0\n",
    "    print()"
   ]
  },
  {
   "cell_type": "code",
   "execution_count": 23,
   "metadata": {},
   "outputs": [],
   "source": [
    "def validate_one_epoch():\n",
    "    model.train(False)\n",
    "    running_loss = 0.0\n",
    "    \n",
    "    for batch_index, batch in enumerate(test_loader):\n",
    "        x_batch, y_batch = batch[0].to(device), batch[1].to(device)\n",
    "        \n",
    "        with torch.no_grad():\n",
    "            output = model(x_batch)\n",
    "            loss = loss_function(output, y_batch)\n",
    "            running_loss += loss.item()\n",
    "\n",
    "    avg_loss_across_batches = running_loss / len(test_loader)\n",
    "    \n",
    "    print('Val Loss: {0:.3f}'.format(avg_loss_across_batches))\n",
    "    print('***************************************************')\n",
    "    print()"
   ]
  },
  {
   "cell_type": "code",
   "execution_count": 24,
   "metadata": {},
   "outputs": [
    {
     "name": "stdout",
     "output_type": "stream",
     "text": [
      "Epoch: 1\n",
      "Batch 100, Loss: 0.109\n",
      "Batch 200, Loss: 0.002\n",
      "Batch 300, Loss: 0.001\n",
      "\n",
      "Val Loss: 0.011\n",
      "***************************************************\n",
      "\n",
      "Epoch: 1\n",
      "Batch 100, Loss: 0.001\n",
      "Batch 200, Loss: 0.001\n",
      "Batch 300, Loss: 0.000\n",
      "\n",
      "Val Loss: 0.009\n",
      "***************************************************\n",
      "\n",
      "Epoch: 1\n",
      "Batch 100, Loss: 0.001\n",
      "Batch 200, Loss: 0.000\n",
      "Batch 300, Loss: 0.000\n",
      "\n",
      "Val Loss: 0.009\n",
      "***************************************************\n",
      "\n",
      "Epoch: 1\n",
      "Batch 100, Loss: 0.000\n",
      "Batch 200, Loss: 0.001\n",
      "Batch 300, Loss: 0.001\n",
      "\n",
      "Val Loss: 0.007\n",
      "***************************************************\n",
      "\n",
      "Epoch: 1\n",
      "Batch 100, Loss: 0.001\n",
      "Batch 200, Loss: 0.000\n",
      "Batch 300, Loss: 0.001\n",
      "\n",
      "Val Loss: 0.006\n",
      "***************************************************\n",
      "\n",
      "Epoch: 1\n",
      "Batch 100, Loss: 0.000\n",
      "Batch 200, Loss: 0.000\n",
      "Batch 300, Loss: 0.001\n",
      "\n",
      "Val Loss: 0.006\n",
      "***************************************************\n",
      "\n",
      "Epoch: 1\n",
      "Batch 100, Loss: 0.000\n",
      "Batch 200, Loss: 0.000\n",
      "Batch 300, Loss: 0.000\n",
      "\n",
      "Val Loss: 0.007\n",
      "***************************************************\n",
      "\n",
      "Epoch: 1\n",
      "Batch 100, Loss: 0.000\n",
      "Batch 200, Loss: 0.000\n",
      "Batch 300, Loss: 0.000\n",
      "\n",
      "Val Loss: 0.006\n",
      "***************************************************\n",
      "\n",
      "Epoch: 1\n",
      "Batch 100, Loss: 0.000\n",
      "Batch 200, Loss: 0.000\n",
      "Batch 300, Loss: 0.001\n",
      "\n",
      "Val Loss: 0.006\n",
      "***************************************************\n",
      "\n",
      "Epoch: 1\n",
      "Batch 100, Loss: 0.001\n",
      "Batch 200, Loss: 0.000\n",
      "Batch 300, Loss: 0.000\n",
      "\n",
      "Val Loss: 0.004\n",
      "***************************************************\n",
      "\n"
     ]
    }
   ],
   "source": [
    "for epoch in range(num_epochs):\n",
    "    train_one_epoch(1)\n",
    "    validate_one_epoch()"
   ]
  },
  {
   "cell_type": "code",
   "execution_count": 25,
   "metadata": {},
   "outputs": [
    {
     "data": {
      "image/png": "[encoded data removed]",
      "text/plain": [
       "<Figure size 640x480 with 1 Axes>"
      ]
     },
     "metadata": {},
     "output_type": "display_data"
    }
   ],
   "source": [
    "with torch.no_grad():\n",
    "    predicted = model(X_train.to(device)).to('cpu').numpy()\n",
    "\n",
    "plt.plot(y_train, label='Actual Close')\n",
    "plt.plot(predicted, label='Predicted Close')\n",
    "plt.xlabel('Day')\n",
    "plt.ylabel('Close')\n",
    "plt.legend()\n",
    "plt.show()\n"
   ]
  },
  {
   "cell_type": "code",
   "execution_count": 26,
   "metadata": {},
   "outputs": [
    {
     "data": {
      "text/plain": [
       "array([ -0.34142411,  -0.34631525,  -0.34834953, ..., 169.92149403,\n",
       "       169.25716492, 169.69710148])"
      ]
     },
     "execution_count": 26,
     "metadata": {},
     "output_type": "execute_result"
    }
   ],
   "source": [
    "train_predictions = predicted.flatten()\n",
    "\n",
    "dummies = np.zeros((X_train.shape[0], lookback+1))\n",
    "dummies[:, 0] = train_predictions\n",
    "dummies = scaler.inverse_transform(dummies)\n",
    "\n",
    "train_predictions = dc(dummies[:, 0])\n",
    "train_predictions"
   ]
  },
  {
   "cell_type": "code",
   "execution_count": 27,
   "metadata": {},
   "outputs": [
    {
     "data": {
      "text/plain": [
       "array([7.91646265e-02, 7.65634249e-02, 7.52572660e-02, ...,\n",
       "       1.69091505e+02, 1.73315001e+02, 1.68871003e+02])"
      ]
     },
     "execution_count": 27,
     "metadata": {},
     "output_type": "execute_result"
    }
   ],
   "source": [
    "dummies = np.zeros((X_train.shape[0], lookback+1))\n",
    "dummies[:, 0] = y_train.flatten()\n",
    "dummies = scaler.inverse_transform(dummies)\n",
    "\n",
    "new_y_train = dc(dummies[:, 0])\n",
    "new_y_train"
   ]
  },
  {
   "cell_type": "code",
   "execution_count": 28,
   "metadata": {},
   "outputs": [
    {
     "data": {
      "image/png": "[encoded data removed]",
      "text/plain": [
       "<Figure size 640x480 with 1 Axes>"
      ]
     },
     "metadata": {},
     "output_type": "display_data"
    }
   ],
   "source": [
    "plt.plot(new_y_train, label='Actual Close')\n",
    "plt.plot(train_predictions, label='Predicted Close')\n",
    "plt.xlabel('Day')\n",
    "plt.ylabel('Close')\n",
    "plt.legend()\n",
    "plt.show()\n"
   ]
  },
  {
   "cell_type": "code",
   "execution_count": 29,
   "metadata": {},
   "outputs": [
    {
     "data": {
      "text/plain": [
       "array([168.88938392, 168.41706574, 167.39567169, 167.45790044,\n",
       "       167.91915796, 168.24145128, 167.95789807, 168.07546349,\n",
       "       167.84175553, 167.65270153, 166.89556289, 167.15022498,\n",
       "       166.74487106, 165.63309082, 164.37157474, 163.28690702,\n",
       "       162.29058566, 162.63684561, 162.69391642, 161.75724485,\n",
       "       161.31182242, 160.19698521, 158.70102194, 156.39321142,\n",
       "       151.87502984, 148.88225847, 145.78925746, 142.98419502,\n",
       "       141.14467861, 140.85023148, 142.22622266, 144.35447245,\n",
       "       145.44174693, 143.23223182, 146.85784553, 150.29601154,\n",
       "       153.60086597, 155.51403307, 155.98996959, 154.84004395,\n",
       "       155.492223  , 155.42192386, 155.91322303, 155.08507381,\n",
       "       153.67856853, 151.97594868, 149.62118314, 149.59029665,\n",
       "       150.33631905, 150.61384169, 150.15983753, 150.00847316,\n",
       "       148.90530801, 147.9558861 , 144.64173293, 141.58370919,\n",
       "       140.21432106, 141.41365842, 141.72887069, 140.89336251,\n",
       "       141.60493011, 144.5339776 , 148.30458606, 152.14253675,\n",
       "       154.45512169, 157.17592855, 159.24510661, 160.61006492,\n",
       "       161.70465389, 163.46293277, 164.77716209, 164.95180944,\n",
       "       163.97320182, 163.40904677, 164.34420654, 164.06477746,\n",
       "       162.11539918, 160.1514753 , 157.94368321, 155.61779767,\n",
       "       153.76201819, 153.33206958, 152.16429124, 151.70584614,\n",
       "       152.79056944, 152.68699381, 151.14907783, 148.88030757,\n",
       "       147.34643234, 144.81880917, 142.55196758, 142.08572443,\n",
       "       136.49065094, 132.58551366, 130.02851026, 128.09647333,\n",
       "       124.8712279 , 122.10676199, 117.53385513, 115.68735632,\n",
       "       113.45692877, 111.73000326, 110.54005635, 109.91116862,\n",
       "       110.03170485, 109.45857065, 108.99797455, 109.29718221,\n",
       "       109.57199527, 108.37474221, 108.10305838, 107.59281712,\n",
       "       108.82642308, 110.76014413, 112.69664701, 115.10417581,\n",
       "       117.22918105, 119.50232556, 120.78492915, 121.2583534 ,\n",
       "       120.20590057, 118.15722642, 115.07493175, 112.75600221,\n",
       "       111.20752301, 109.0658309 , 107.37661725, 106.43306749,\n",
       "       106.17864163, 107.33601238, 109.45387404, 109.89472213,\n",
       "       110.03061546, 110.32175273, 109.9149926 , 110.23442072,\n",
       "       110.76706399, 110.60810723, 110.95319164, 111.93846066,\n",
       "       111.9020883 , 112.06522477, 112.2367818 , 111.98162227,\n",
       "       112.16740531, 111.97720356, 112.49084361, 114.16723189,\n",
       "       116.3755659 , 117.70827459, 118.73869503, 118.14005182,\n",
       "       119.20924573, 120.07185531, 123.01409223, 125.21456983,\n",
       "       126.73754558, 129.31953831, 133.27085247, 135.52541617,\n",
       "       137.17084293, 136.95297562, 138.13907909, 138.8785818 ,\n",
       "       139.81596482, 140.12620813, 140.85831855, 140.80896242,\n",
       "       141.04770048, 139.76689215, 137.71736206, 136.10348876,\n",
       "       135.04263204, 134.89304628, 133.21133609, 131.39885995,\n",
       "       129.95081881, 128.84277363, 128.22332637, 127.67956407,\n",
       "       126.32797861, 126.53490753, 126.79629494, 127.82644859,\n",
       "       129.63984183, 128.55146128, 128.16391559, 127.72459043,\n",
       "       126.54018775, 125.982469  , 124.68414703, 122.21330009,\n",
       "       120.9135608 , 118.90560546, 117.64816349, 116.69961976,\n",
       "       116.25989858, 115.28929744, 114.44297315, 114.30253606,\n",
       "       115.62941011, 116.51414658, 117.29119859, 116.29032374,\n",
       "       115.75589631, 115.50460523, 115.29906862, 114.40275458,\n",
       "       112.5263489 , 111.9457029 , 112.44955509, 112.6260116 ,\n",
       "       112.99106913, 113.96240672, 114.80248645, 116.69579021,\n",
       "       116.58727203, 115.3685396 , 113.36874915, 111.81349182,\n",
       "       109.16220875, 106.05638793, 102.50786817,  99.66272055,\n",
       "        97.05410719,  95.32972173,  93.02969815,  92.63092505,\n",
       "        93.41798862,  94.51539278,  95.37947527,  96.15327439,\n",
       "        96.76158595,  98.42619657,  98.13104356,  97.15808577,\n",
       "        96.63686445,  95.82921636,  95.29216272,  94.93044562,\n",
       "        95.14546439,  95.54721109,  95.67788534,  95.27178664,\n",
       "        94.74255049,  94.15328106,  94.1413839 ,  93.13270684,\n",
       "        92.33488274,  91.83188927,  91.70883521,  91.8079421 ,\n",
       "        91.90373635,  91.31395557,  91.05326293,  90.67960699,\n",
       "        89.50466423,  88.47463842,  87.73416859,  86.87192584,\n",
       "        86.81612506,  86.6803957 ,  86.27346883,  86.42463033,\n",
       "        86.01265113,  86.35523438,  87.18823029,  87.80849459,\n",
       "        89.09336312,  90.06779103,  91.55805444,  93.43200621,\n",
       "        94.79114239,  95.86132564,  97.1148797 ,  97.45048751,\n",
       "        97.65759985,  97.41223651,  97.76558863,  98.56578883,\n",
       "        99.54445758, 100.26526277, 101.18382321, 103.47373935,\n",
       "       104.10769331, 104.42419507, 104.33028224, 104.3683665 ,\n",
       "       103.88349808, 103.23094663, 101.40703465, 100.93437186,\n",
       "       100.79813671, 100.15572884,  99.70846112,  99.25962045,\n",
       "        99.18708138,  98.78669921,  98.06521315,  97.02875103,\n",
       "        96.49304245,  95.77484402,  95.55010131,  95.41340761,\n",
       "        95.02223247,  95.02213242,  95.02706804,  94.69266634,\n",
       "        94.5909249 ,  94.79113405,  94.71245326,  94.94778141,\n",
       "        95.66460699,  96.11115771,  96.70784446,  98.0930649 ,\n",
       "        99.0143377 ,  99.58541261,  99.98060072,  99.69109199,\n",
       "        99.45626684,  99.9120246 , 100.01015048, 100.55775066,\n",
       "       100.93610878, 101.64426646])"
      ]
     },
     "execution_count": 29,
     "metadata": {},
     "output_type": "execute_result"
    }
   ],
   "source": [
    "test_predictions = model(X_test.to(device)).detach().cpu().numpy().flatten()\n",
    "\n",
    "dummies = np.zeros((X_test.shape[0], lookback+1))\n",
    "dummies[:, 0] = test_predictions\n",
    "dummies = scaler.inverse_transform(dummies)\n",
    "\n",
    "test_predictions = dc(dummies[:, 0])\n",
    "test_predictions"
   ]
  },
  {
   "cell_type": "code",
   "execution_count": 30,
   "metadata": {},
   "outputs": [
    {
     "data": {
      "text/plain": [
       "array([170.01749949, 167.07899763, 170.41700626, 171.03700377,\n",
       "       171.0684961 , 169.66949429, 170.66099675, 169.20100565,\n",
       "       168.64449858, 166.71699707, 170.40449492, 167.52200227,\n",
       "       164.35699578, 163.25399737, 162.55400179, 161.48599177,\n",
       "       165.36199892, 165.20699954, 161.21400501, 162.13799851,\n",
       "       158.91749416, 156.29899568, 151.66749509, 142.64300408,\n",
       "       144.54400445, 139.98599336, 138.87249844, 139.63749627,\n",
       "       143.97799855, 149.57350001, 151.19349835, 150.61250219,\n",
       "       138.84550541, 157.63949825, 157.93550165, 161.41349717,\n",
       "       161.18949925, 159.003495  , 153.29350176, 155.1670061 ,\n",
       "       156.51049894, 158.10049453, 154.6524962 , 152.60149876,\n",
       "       150.19749381, 144.82699629, 151.35800212, 153.78849709,\n",
       "       153.56300403, 151.14199678, 152.05250627, 147.89849848,\n",
       "       145.64100565, 137.45300383, 136.01449488, 139.27900567,\n",
       "       146.81750468, 145.52450739, 141.8529947 , 147.36650272,\n",
       "       153.10400311, 157.23899657, 161.25050521, 161.49149987,\n",
       "       164.8890082 , 163.4080074 , 163.64950785, 164.77349929,\n",
       "       168.99049174, 169.31500275, 166.30099379, 162.99749555,\n",
       "       163.55999984, 168.34649425, 164.05499516, 158.75599734,\n",
       "       157.78449856, 154.4604964 , 151.1219931 , 150.78750525,\n",
       "       155.54100108, 151.70649644, 152.78500575, 158.11549591,\n",
       "       153.99799942, 148.29600432, 144.35000372, 146.07400567,\n",
       "       139.39100462, 138.16700588, 144.59649537, 124.2815027 ,\n",
       "       124.50000086, 124.25350088, 125.92849685, 116.40699847,\n",
       "       114.77249899, 108.78900163, 108.85900063, 105.37200234,\n",
       "       106.93049589, 113.05500005, 110.81050072, 115.36850069,\n",
       "       107.11250358, 107.31900035, 107.59100239, 107.55699918,\n",
       "       104.09999809, 106.77500184, 111.07749906, 115.14649953,\n",
       "       120.20950223, 121.68399725, 125.51100121, 122.34999935,\n",
       "       124.79000149, 122.99999961, 121.18000054, 116.15000198,\n",
       "       109.65000214, 103.66999806, 102.30999829, 107.6699986 ,\n",
       "       103.66000386, 106.22000101, 108.67999989, 108.94999683,\n",
       "       112.44000207, 116.45999935, 113.22000127, 107.40000166,\n",
       "       108.91999825, 106.20999917, 109.55999806, 113.50000006,\n",
       "       114.33000152, 116.3300018 , 115.54000075, 111.74999999,\n",
       "       109.22000073, 110.40000137, 110.62999651, 113.55000232,\n",
       "       113.76000211, 118.20999802, 122.76999614, 124.62999702,\n",
       "       122.41999835, 121.13999873, 114.80999825, 120.97000076,\n",
       "       122.28000035, 134.94999758, 135.38999806, 134.16000488,\n",
       "       139.5200031 , 142.57000925, 140.80000272, 139.41000507,\n",
       "       137.83000298, 142.69000357, 140.64000103, 143.55000084,\n",
       "       143.17999102, 144.7799968 , 142.10000324, 142.30000119,\n",
       "       138.22999608, 133.22000121, 133.61999431, 133.80000247,\n",
       "       137.27999891, 130.7499991 , 129.78999174, 128.72999653,\n",
       "       126.76999668, 127.82000117, 127.51000241, 126.11000014,\n",
       "       129.47999576, 129.82000839, 133.27000486, 136.44999605,\n",
       "       126.82000034, 128.55000227, 126.27999811, 123.52999999,\n",
       "       124.66000532, 122.19000322, 118.54000046, 117.30999894,\n",
       "       113.77999884, 115.15000254, 114.41000376, 118.01000286,\n",
       "       114.80000336, 112.99999964, 115.8799967 , 121.08999508,\n",
       "       120.94999707, 120.30000237, 114.55999805, 113.66999803,\n",
       "       112.2099986 , 112.90000206, 112.5299992 , 106.90000263,\n",
       "       113.79000069, 116.36000038, 115.0700003 , 115.25000012,\n",
       "       119.31999967, 119.82000008, 120.59999928, 115.66000341,\n",
       "       110.95999895, 103.41000365, 102.4400021 ,  96.79000116,\n",
       "        92.12000301,  89.30000302,  90.98000304,  90.52999899,\n",
       "        89.98000291,  86.13999884,  96.62999704, 100.79000101,\n",
       "        98.48999791,  98.94000197,  97.1200029 ,  94.84999805,\n",
       "        94.13999897,  92.45999904,  93.199997  ,  94.12999696,\n",
       "        93.410004  ,  93.94999701,  92.41999801,  96.54000095,\n",
       "        95.50000004,  94.12999696,  91.01000197,  88.24999993,\n",
       "        88.45999902,  90.34999813,  89.08999594,  90.55000302,\n",
       "        92.48999797,  91.58000208,  88.44999683,  87.86000102,\n",
       "        84.91999777,  85.19000167,  86.76999681,  83.79000078,\n",
       "        85.25000022,  83.04000085,  81.81999979,  84.17999969,\n",
       "        83.99999987,  85.82000033,  85.13999871,  83.12000309,\n",
       "        86.08000168,  87.3600013 ,  89.87000314,  95.08999606,\n",
       "        95.26999692,  98.12000304,  96.05000307,  95.45999893,\n",
       "        93.68      ,  97.25000011,  97.51999705,  96.32000002,\n",
       "        97.18000006,  99.22000076, 102.2399979 , 100.55000334,\n",
       "       103.12999722, 105.15000257, 112.9100039 , 103.38999927,\n",
       "       102.18000005, 102.11000105, 100.05000292,  98.23999805,\n",
       "        97.61000113,  99.54000066,  99.69999679, 101.16000387,\n",
       "        98.15000197,  97.19999715,  94.58000197,  95.79000102,\n",
       "        95.81999995,  93.5       ,  93.760002  ,  94.23000296,\n",
       "        92.16999798,  92.12999703,  94.90000205,  93.74999998,\n",
       "        93.55000299,  93.919998  ,  92.25000004,  90.73000301,\n",
       "        92.43000003,  94.87999697,  96.19999701, 100.04000108,\n",
       "        98.94999687,  97.70999906, 100.61000119,  98.69999701,\n",
       "        98.70999885,  98.12999689,  98.04000115,  97.23999792,\n",
       "       100.25000017, 102.00000023, 103.290001  , 102.41000421,\n",
       "       103.94999685, 101.09999768])"
      ]
     },
     "execution_count": 30,
     "metadata": {},
     "output_type": "execute_result"
    }
   ],
   "source": [
    "dummies = np.zeros((X_test.shape[0], lookback+1))\n",
    "dummies[:, 0] = y_test.flatten()\n",
    "dummies = scaler.inverse_transform(dummies)\n",
    "\n",
    "new_y_test = dc(dummies[:, 0])\n",
    "new_y_test"
   ]
  },
  {
   "cell_type": "code",
   "execution_count": 31,
   "metadata": {},
   "outputs": [
    {
     "data": {
      "image/png": "[encoded data removed]",
      "text/plain": [
       "<Figure size 640x480 with 1 Axes>"
      ]
     },
     "metadata": {},
     "output_type": "display_data"
    }
   ],
   "source": [
    "plt.plot(new_y_test, label='Actual Close')\n",
    "plt.plot(test_predictions, label='Predicted Close')\n",
    "plt.xlabel('Day')\n",
    "plt.ylabel('Close')\n",
    "plt.legend()\n",
    "plt.show()\n"
   ]
  }
 ],
 "metadata": {
  "kernelspec": {
   "display_name": "base",
   "language": "python",
   "name": "python3"
  },
  "language_info": {
   "codemirror_mode": {
    "name": "ipython",
    "version": 3
   },
   "file_extension": ".py",
   "mimetype": "text/x-python",
   "name": "python",
   "nbconvert_exporter": "python",
   "pygments_lexer": "ipython3",
   "version": "3.12.3"
  }
 },
 "nbformat": 4,
 "nbformat_minor": 2
}
