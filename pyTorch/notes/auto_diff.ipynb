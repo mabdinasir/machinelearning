{
 "cells": [
  {
   "cell_type": "markdown",
   "metadata": {},
   "source": [
    "### 2. Automatic Differentiation (Autograd)\n",
    "\n",
    "PyTorch's Autograd module provides automatic differentiation, enabling gradient computation for tensors during backpropagation in neural networks.\n",
    "\n",
    "```markdown\n",
    "#### Automatic Differentiation (Autograd)\n",
    "\n",
    "Autograd is a key feature in PyTorch that allows for automatic computation of gradients during backpropagation. This enables efficient training of neural networks.\n",
    "```\n",
    "\n",
    "### Gradient represents the rate of change of the loss function with respect to the model's parameters.\n"
   ]
  },
  {
   "cell_type": "code",
   "execution_count": 1,
   "metadata": {},
   "outputs": [
    {
     "name": "stdout",
     "output_type": "stream",
     "text": [
      "tensor(3.)\n",
      "tensor(8.)\n"
     ]
    }
   ],
   "source": [
    "import torch\n",
    "\n",
    "# Create a tensor with requires_grad=True to track computations\n",
    "x = torch.tensor(2.0, requires_grad=True)\n",
    "y = torch.tensor(3.0, requires_grad=True)\n",
    "\n",
    "# Perform operations on tensors\n",
    "z = x * y + y ** 2\n",
    "\n",
    "# Perform backward pass to compute gradients\n",
    "z.backward()\n",
    "\n",
    "# Gradients are stored in the .grad attribute of tensors\n",
    "print(x.grad)  # dz/dx\n",
    "print(y.grad)  # dz/dy"
   ]
  },
  {
   "cell_type": "code",
   "execution_count": 2,
   "metadata": {},
   "outputs": [
    {
     "name": "stdout",
     "output_type": "stream",
     "text": [
      "tensor(2.)\n",
      "tensor(2.)\n"
     ]
    }
   ],
   "source": [
    "x = torch.tensor(1., requires_grad=True)\n",
    "y = torch.tensor(1., requires_grad=True)\n",
    "z = x ** 2 + y ** 2\n",
    "z.backward() # dz/dx = 2x, dz/dy = 2y => dz/dx = 2, dz/dy = 2 # autograd will accumulate the gradients # AutoDiff\n",
    "print(x.grad)\n",
    "print(y.grad)"
   ]
  }
 ],
 "metadata": {
  "kernelspec": {
   "display_name": "base",
   "language": "python",
   "name": "python3"
  },
  "language_info": {
   "codemirror_mode": {
    "name": "ipython",
    "version": 3
   },
   "file_extension": ".py",
   "mimetype": "text/x-python",
   "name": "python",
   "nbconvert_exporter": "python",
   "pygments_lexer": "ipython3",
   "version": "3.12.2"
  }
 },
 "nbformat": 4,
 "nbformat_minor": 2
}
