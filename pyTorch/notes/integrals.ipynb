{
 "cells": [
  {
   "cell_type": "code",
   "execution_count": 1,
   "metadata": {},
   "outputs": [],
   "source": [
    "from scipy.integrate import quad # \"quadrature\" = numerical integration (as opposed to symbolic)\n",
    "from sklearn.metrics import auc\n"
   ]
  },
  {
   "cell_type": "code",
   "execution_count": 2,
   "metadata": {},
   "outputs": [
    {
     "data": {
      "text/plain": [
       "(0.75, 8.326672684688674e-15)"
      ]
     },
     "execution_count": 2,
     "metadata": {},
     "output_type": "execute_result"
    }
   ],
   "source": [
    "def g(x):\n",
    "    return x/2\n",
    "\n",
    "quad(g, 1, 2) # The first argument is the function to integrate, the second and third arguments are the limits of integration.\n",
    "\n",
    "# The function returns a tuple. The first element is the value of the integral, the second element is an estimate of the absolute error in the value of the integral."
   ]
  },
  {
   "cell_type": "code",
   "execution_count": 3,
   "metadata": {},
   "outputs": [
    {
     "data": {
      "text/plain": [
       "(7.0, 7.771561172376096e-14)"
      ]
     },
     "execution_count": 3,
     "metadata": {},
     "output_type": "execute_result"
    }
   ],
   "source": [
    "def h(x):\n",
    "    return 2*x\n",
    "\n",
    "quad(h, 3, 4) # The integral of 2x from 3 to 4 is 7.\n",
    "\n",
    "# The second element of the tuple is an estimate of the absolute error in the value of the integral. The error is very small, so we can be confident that the value of the integral is accurate.\n"
   ]
  },
  {
   "cell_type": "code",
   "execution_count": 4,
   "metadata": {},
   "outputs": [
    {
     "data": {
      "text/plain": [
       "0.75"
      ]
     },
     "execution_count": 4,
     "metadata": {},
     "output_type": "execute_result"
    }
   ],
   "source": [
    "xs = [0, 0,   0.5, 0.5, 1]\n",
    "ys = [0, 0.5, 0.5, 1,   1]\n",
    "\n",
    "auc(xs, ys) # The area under the curve is 0.75."
   ]
  }
 ],
 "metadata": {
  "kernelspec": {
   "display_name": "base",
   "language": "python",
   "name": "python3"
  },
  "language_info": {
   "codemirror_mode": {
    "name": "ipython",
    "version": 3
   },
   "file_extension": ".py",
   "mimetype": "text/x-python",
   "name": "python",
   "nbconvert_exporter": "python",
   "pygments_lexer": "ipython3",
   "version": "3.12.2"
  }
 },
 "nbformat": 4,
 "nbformat_minor": 2
}
