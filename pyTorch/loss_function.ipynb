{
 "cells": [
  {
   "cell_type": "markdown",
   "metadata": {},
   "source": [
    "### 5. Loss Functions\n",
    "\n",
    "### Loss functions in PyTorch measure/compute the discrepancy between the model's predictions and the actual target values. They are used to guide the optimization process during training.\n",
    "\n",
    "### This function expresses how far off our model’s prediction was from a particular input’s ideal output.\n"
   ]
  },
  {
   "cell_type": "code",
   "execution_count": 1,
   "metadata": {},
   "outputs": [
    {
     "name": "stdout",
     "output_type": "stream",
     "text": [
      "tensor(0.5100)\n",
      "tensor(0.7478)\n",
      "tensor(0.7478)\n"
     ]
    }
   ],
   "source": [
    "import torch\n",
    "import torch.nn as nn\n",
    "\n",
    "# Define predicted and target tensors\n",
    "predicted = torch.tensor([0.5, 0.8, 0.2])\n",
    "target = torch.tensor([1.0, 0.0, 1.0])\n",
    "\n",
    "# Compute the mean squared error loss\n",
    "criterion = nn.MSELoss()\n",
    "loss = criterion(predicted, target)\n",
    "print(loss)\n",
    "\n",
    "# Compute the binary cross-entropy loss\n",
    "criterion = nn.BCELoss()\n",
    "loss = criterion(torch.sigmoid(predicted), target)\n",
    "print(loss)\n",
    "\n",
    "# Compute the binary cross-entropy loss with logits\n",
    "criterion = nn.BCEWithLogitsLoss()\n",
    "loss = criterion(predicted, target)\n",
    "print(loss)\n"
   ]
  }
 ],
 "metadata": {
  "kernelspec": {
   "display_name": "base",
   "language": "python",
   "name": "python3"
  },
  "language_info": {
   "codemirror_mode": {
    "name": "ipython",
    "version": 3
   },
   "file_extension": ".py",
   "mimetype": "text/x-python",
   "name": "python",
   "nbconvert_exporter": "python",
   "pygments_lexer": "ipython3",
   "version": "3.12.3"
  }
 },
 "nbformat": 4,
 "nbformat_minor": 2
}
