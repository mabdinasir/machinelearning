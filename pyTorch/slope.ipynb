{
 "cells": [
  {
   "cell_type": "code",
   "execution_count": 1,
   "metadata": {},
   "outputs": [
    {
     "name": "stdout",
     "output_type": "stream",
     "text": [
      "The slope of the function at x = 2.0 is 6.0\n"
     ]
    }
   ],
   "source": [
    "import torch\n",
    "from torch.autograd import Variable\n",
    "\n",
    "# Define the function\n",
    "def f(x):\n",
    "    return x**2 + 2*x + 2\n",
    "\n",
    "# Define a value of x where you want to find the slope\n",
    "x_value = Variable(torch.tensor(2.0), requires_grad=True)\n",
    "\n",
    "# Compute the function value\n",
    "y = f(x_value)\n",
    "\n",
    "# Compute the gradient\n",
    "y.backward()\n",
    "\n",
    "# The gradient is the slope of the function at x_value\n",
    "slope = x_value.grad\n",
    "\n",
    "print(\"The slope of the function at x =\", x_value.item(), \"is\", slope.item())\n"
   ]
  }
 ],
 "metadata": {
  "kernelspec": {
   "display_name": "base",
   "language": "python",
   "name": "python3"
  },
  "language_info": {
   "codemirror_mode": {
    "name": "ipython",
    "version": 3
   },
   "file_extension": ".py",
   "mimetype": "text/x-python",
   "name": "python",
   "nbconvert_exporter": "python",
   "pygments_lexer": "ipython3",
   "version": "3.12.2"
  }
 },
 "nbformat": 4,
 "nbformat_minor": 2
}
