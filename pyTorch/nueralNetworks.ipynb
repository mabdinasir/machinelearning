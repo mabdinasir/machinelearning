{
 "cells": [
  {
   "cell_type": "code",
   "execution_count": 1,
   "metadata": {},
   "outputs": [],
   "source": [
    "import os\n",
    "import torch\n",
    "from torch import nn\n",
    "from torch.utils.data import DataLoader\n",
    "from torchvision import datasets, transforms\n",
    "from torchvision.transforms import ToTensor, Lambda, v2\n"
   ]
  },
  {
   "cell_type": "code",
   "execution_count": 2,
   "metadata": {},
   "outputs": [
    {
     "name": "stdout",
     "output_type": "stream",
     "text": [
      "Using mps device\n"
     ]
    }
   ],
   "source": [
    "device = (\n",
    "    \"cuda\"\n",
    "    if torch.cuda.is_available()\n",
    "    else \"mps\"\n",
    "    if torch.backends.mps.is_available()\n",
    "    else \"cpu\"\n",
    ")\n",
    "print(f\"Using {device} device\")"
   ]
  },
  {
   "cell_type": "code",
   "execution_count": 3,
   "metadata": {},
   "outputs": [],
   "source": [
    "class NeuralNetwork(nn.Module): # class NeuralNetwork inherits from nn.Module\n",
    "    def __init__(self): # The constructor method of the NeuralNetwork class.\n",
    "        super().__init__() # calls the constructor of the parent class nn.Module\n",
    "        self.flatten = nn.Flatten() # creates an instance of the nn.Flatten module, which is used to flatten the input tensor into a 1D tensor.\n",
    "        self.linear_relu_stack = nn.Sequential( # This defines a sequence of linear layers followed by ReLU activation functions. The nn.Sequential container allows you to stack layers sequentially.\n",
    "            nn.Linear(28*28, 512), # The first linear layer accepts the flattened input of size 28*28 and outputs a tensor of size 512.\n",
    "            nn.ReLU(), # The ReLU activation function is used to add non-linearity to the model, which improves the model's ability to predict complex patterns in the data.\n",
    "            nn.Linear(512, 512), # The second linear layer accepts the output of the first layer of size 512 and outputs a tensor of size 512.\n",
    "            nn.ReLU(), # The ReLU activation function is used again to add non-linearity to the model.\n",
    "            nn.Linear(512, 10), # The third linear layer accepts the output of the second layer of size 512 and outputs a tensor of size 10, which corresponds to the number of classes in the dataset.\n",
    "        )\n",
    "\n",
    "    def forward(self, x): # The forward method defines the computation performed at every call to the model. In this method, the input tensor x is passed through each layer in the network and the output is computed.\n",
    "        x = self.flatten(x) # The input tensor x is flattened into a 1D tensor.\n",
    "        logits = self.linear_relu_stack(x) # The flattened input tensor x is passed through the linear layers defined in self.linear_relu_stack.\n",
    "        return logits # The output from the last linear layer is returned."
   ]
  },
  {
   "cell_type": "markdown",
   "metadata": {},
   "source": [
    "We create an instance of NeuralNetwork, and move it to the device, and print its structure.\n"
   ]
  },
  {
   "cell_type": "code",
   "execution_count": 4,
   "metadata": {},
   "outputs": [
    {
     "name": "stdout",
     "output_type": "stream",
     "text": [
      "NeuralNetwork(\n",
      "  (flatten): Flatten(start_dim=1, end_dim=-1)\n",
      "  (linear_relu_stack): Sequential(\n",
      "    (0): Linear(in_features=784, out_features=512, bias=True)\n",
      "    (1): ReLU()\n",
      "    (2): Linear(in_features=512, out_features=512, bias=True)\n",
      "    (3): ReLU()\n",
      "    (4): Linear(in_features=512, out_features=10, bias=True)\n",
      "  )\n",
      ")\n"
     ]
    }
   ],
   "source": [
    "model = NeuralNetwork().to(device)\n",
    "print(model)"
   ]
  },
  {
   "cell_type": "code",
   "execution_count": 5,
   "metadata": {},
   "outputs": [
    {
     "name": "stdout",
     "output_type": "stream",
     "text": [
      "Predicted class: tensor([7], device='mps:0')\n"
     ]
    }
   ],
   "source": [
    "X = torch.rand(1, 28, 28, device=device) # The input tensor X is created with the size (1, 28, 28), which corresponds to a single random image with a height and width of 28 pixels.\n",
    "logits = model(X) # The input tensor X is passed through the model to get the output logits.\n",
    "pred_probab = nn.Softmax(dim=1)(logits) # The output logits is passed through the nn.Softmax function to convert the logits into probabilities.\n",
    "y_pred = pred_probab.argmax(1) # The predicted class label is obtained by finding the index with the highest probability.\n",
    "print(f\"Predicted class: {y_pred}\")"
   ]
  }
 ],
 "metadata": {
  "kernelspec": {
   "display_name": "base",
   "language": "python",
   "name": "python3"
  },
  "language_info": {
   "codemirror_mode": {
    "name": "ipython",
    "version": 3
   },
   "file_extension": ".py",
   "mimetype": "text/x-python",
   "name": "python",
   "nbconvert_exporter": "python",
   "pygments_lexer": "ipython3",
   "version": "3.12.2"
  }
 },
 "nbformat": 4,
 "nbformat_minor": 2
}
