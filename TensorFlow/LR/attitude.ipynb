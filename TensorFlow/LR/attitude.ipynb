{
 "cells": [
  {
   "cell_type": "code",
   "execution_count": null,
   "metadata": {},
   "outputs": [],
   "source": [
    "import numpy as np\n",
    "import matplotlib.pyplot as plt\n",
    "import sklearn\n",
    "from sklearn import linear_model\n",
    "from matplotlib import style\n",
    "from sklearn.utils import shuffle\n",
    "import pickle\n",
    "\n",
    "model = linear_model.LinearRegression()\n",
    "\n",
    "correct = np.array([17.0, 13.0, 12.0, 15.0, 16.0, 14.0, 16.0, 16.0, 18.0, 19.0], dtype=float, ndmin=2);\n",
    "attitude = np.array([94.0, 73.0, 59.0, 80.0, 93.0, 85.0, 66.0, 79.0, 77.0, 91.0], dtype=float, ndmin=2);\n",
    "\n",
    "x_train, x_test, y_train, y_test = sklearn.model_selection.train_test_split(correct, attitude, test_size=0.1, train_size=0.9)\n",
    "\n",
    "model.fit(x_train, y_train)\n",
    "acc = model.score(x_test, y_test)\n",
    "print(acc)\n",
    "\n",
    "print(f\"X10: Y={model.predict([10.0])}\")\n",
    "\n",
    "plt.scatter(x_test, y_test)\n",
    "plt.plot(x_test, y_test, color='red', linewidth=3)  \n",
    "plt.show()\n",
    "\n"
   ]
  }
 ],
 "metadata": {
  "kernelspec": {
   "display_name": "Python 3.9 (tensorflow)",
   "language": "python",
   "name": "tensorflow"
  },
  "language_info": {
   "codemirror_mode": {
    "name": "ipython",
    "version": 3
   },
   "file_extension": ".py",
   "mimetype": "text/x-python",
   "name": "python",
   "nbconvert_exporter": "python",
   "pygments_lexer": "ipython3",
   "version": "3.9.13"
  },
  "orig_nbformat": 4,
  "vscode": {
   "interpreter": {
    "hash": "31f2aee4e71d21fbe5cf8b01ff0e069b9275f58929596ceb00d14d90e3e16cd6"
   }
  }
 },
 "nbformat": 4,
 "nbformat_minor": 2
}
